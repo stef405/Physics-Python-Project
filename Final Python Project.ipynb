{
 "cells": [
  {
   "cell_type": "markdown",
   "metadata": {},
   "source": [
    "# Final Python Project   - Cathode Ray in Television\n",
    "\n",
    "Stefan Grueneis\n",
    "PHYSICS 260"
   ]
  },
  {
   "cell_type": "markdown",
   "metadata": {},
   "source": [
    "# Abstract\n",
    "\n",
    "In old televisions, a cathode-ray tube accelerates an electron beam with a constant electric field that deflects on the screen to create the image. My driving question is how various setups of the cathode ray, such as the voltage difference and the distance between a constant electric, affect the image shown."
   ]
  },
  {
   "cell_type": "markdown",
   "metadata": {},
   "source": [
    "# Motivation\n",
    "\n",
    "For my motivation, it will be interesting to see how a simple cathode ray operation is responsible for a major invention of the past century. It would also be cool to learn how different factors can result in different outcomes, such as the quality of an image. "
   ]
  },
  {
   "cell_type": "markdown",
   "metadata": {},
   "source": [
    "# Background\n",
    "\n",
    "A cathode ray tube is a vacuum tube that produces an image when a cathode ray (a ray of electrons) hit a phosphorous surface, which produces an image. When a voltage is applied to a cathode, the cathode heats up and emits the electrons. That ray of electrons is then accelerated by a positively charged anode, which concentrates the electrons into the cathode ray. For a black and white television, there is only one cathode ray. For a color television, there are three cathode rays which produces red, green, and blue images that can be combined to form a multicolor image.\n",
    "\n",
    "After the cathode ray is formed, the ray goes through a series of steering coils (the coils are just copper windings). These steering coils can produce a magnetic field, which will impact the trajectory of the electrons. By varying the voltage on the steering coils, the electron ray can be positioned to any spot on the screen. For a black and white TV, the white phosphor is coated on the screen. The ray will \"paint\" an image from the left to the right. When the line is done, the ray will move down slightly back to the left in what is called a horizontal retrace. Once the last line of the screen is filled at the bottom right, the ray will move back up to the top left (vertical retrace) and the process restarts. The screen is painted 60 times per second. This fast process makes the image on the TV appear continuous, which is called the persistence of vision.\n",
    "\n",
    "When a ray \"paints\" a screen, it will skip a line each time. For one part, the ray will just skip one line per horizontal retrace. When the process starts again, the ray will go over the lines that were previously skipped.\n",
    "\n"
   ]
  },
  {
   "cell_type": "code",
   "execution_count": null,
   "metadata": {},
   "outputs": [],
   "source": []
  },
  {
   "cell_type": "code",
   "execution_count": null,
   "metadata": {},
   "outputs": [],
   "source": []
  },
  {
   "cell_type": "markdown",
   "metadata": {},
   "source": [
    "# Part 1: Varying Voltage\n",
    "\n",
    "For this part, the distance between the cathode and the anode will be 50 mm. We also will not include a magnetic field, so the electron will just be travel a pathway to the center of the screen. When the electron is accelerated through the electric field, the work done on the initially at rest electron is $ eV $. Once the electron hits the phospote screen, the total energy of the electron will be converted to a photon, whose energy is equal to $ hf = \\frac{hc}{\\lambda} $. The wavelength range of visible light is from 380 to 700 nm. The wavelength of the photon should be in that range so that the energy is released as visible light. "
   ]
  },
  {
   "cell_type": "code",
   "execution_count": 2,
   "metadata": {},
   "outputs": [],
   "source": [
    "#imput usual libraries\n",
    "import numpy as np\n",
    "import matplotlib.pyplot as plt"
   ]
  },
  {
   "cell_type": "code",
   "execution_count": 3,
   "metadata": {},
   "outputs": [],
   "source": [
    "#set constants\n",
    "c = 3e8\n",
    "h = 6.626e-34\n",
    "e = 1.6e-19"
   ]
  },
  {
   "cell_type": "code",
   "execution_count": 4,
   "metadata": {},
   "outputs": [
    {
     "data": {
      "text/plain": [
       "Text(0.5, 1.0, 'Voltage Difference vs. Wavelength of Electron Released Energy')"
      ]
     },
     "execution_count": 4,
     "metadata": {},
     "output_type": "execute_result"
    },
    {
     "data": {
      "image/png": "[encoded data removed]",
      "text/plain": [
       "<Figure size 432x288 with 1 Axes>"
      ]
     },
     "metadata": {
      "needs_background": "light"
     },
     "output_type": "display_data"
    }
   ],
   "source": [
    "voltage = np.linspace(1,10,1000)\n",
    "\n",
    "def work_on_particle(V):\n",
    "    W = e*V\n",
    "    return W\n",
    "\n",
    "def wavelength_of_photon(E):\n",
    "    wavelength = (h*c)/E\n",
    "    return wavelength\n",
    "\n",
    "energy = work_on_particle(voltage)\n",
    "wavelength = wavelength_of_photon(energy)\n",
    "\n",
    "lowest_wavelength = 380e-9*np.ones(np.shape(voltage))\n",
    "highest_wavelength = 700e-9*np.ones(np.shape(voltage))\n",
    "\n",
    "plt.plot(voltage,wavelength)\n",
    "plt.plot(voltage,lowest_wavelength,color='r',label = 'Lowest Wavelength')\n",
    "\n",
    "plt.plot(voltage,highest_wavelength,color='r',label = 'Highest Wavelength')\n",
    "plt.xlabel('Voltage [V]')\n",
    "plt.ylabel('Wavelength [m]')\n",
    "plt.title('Voltage Difference vs. Wavelength of Electron Released Energy')\n"
   ]
  },
  {
   "cell_type": "markdown",
   "metadata": {},
   "source": [
    "The lower redline is equal to 380 nm, while the higher redline is equal to 700 nm. The range in between is where the voltage needs to be so that visible light can be emitted. From a cursorary glance, it looks like the voltage needs to be inbetween a little less than 2 V and around 3.5 V. The code block below determines what the exact range is."
   ]
  },
  {
   "cell_type": "code",
   "execution_count": 5,
   "metadata": {},
   "outputs": [
    {
     "name": "stdout",
     "output_type": "stream",
     "text": [
      "The range of voltage for an electron to emit light in this scenario is [ 1.7748214285714285 , 3.269407894736842 ]\n"
     ]
    }
   ],
   "source": [
    "def return_voltage(wavelength):\n",
    "    E = (h*c)/wavelength\n",
    "    V = E/e\n",
    "    return V\n",
    "\n",
    "print('The range of voltage for an electron to emit light in this scenario is [',\n",
    "      return_voltage(700e-9),',',return_voltage(380e-9),']')"
   ]
  },
  {
   "cell_type": "markdown",
   "metadata": {},
   "source": [
    "For the electron to emit light, the voltage must be from 1.7748 V to 3.269 V. This is consistent with the Voltage vs. Wavelength graph above."
   ]
  },
  {
   "cell_type": "markdown",
   "metadata": {},
   "source": [
    "# Part 2: Magnetic Field Impact on Electron Position\n",
    "\n",
    "However, in a CRT Television, the image has to form in all sections of the screen, not just the center. The magnetic coils are responsible for changing the electron pathway so that it can hit all areas of the screen. This part of the project is to see how the strength and direction of the magnetic field impacts the angle from the center where the electron hits the screen. To approximate the results, the magnetic field will be constant, and we will only focus on the cross section of the tube. A more complex analysis would focus on the three dimensional quality of the screen. Also, to keep the quanities same throughout, the voltage will just be 2.5 V. The electron should still be able to hit the screen and emit light, since no work is done in the magnetic field area. In a magnetic field, the magnetic force on a charged particle is always orthogonal to the velocity of the particle, and since $ W = \\vec{F} \\cdot \\vec{d} $, $ W = 0$."
   ]
  },
  {
   "cell_type": "code",
   "execution_count": 6,
   "metadata": {},
   "outputs": [],
   "source": [
    "#set constants\n",
    "e = 1.6e-19\n",
    "m = 9.11e-31\n",
    "\n",
    "#Set constant voltage\n",
    "voltage = 2.5\n",
    "\n",
    "#get initial velocity\n",
    "v_0 = np.sqrt((2*e*voltage)/m)\n",
    "\n"
   ]
  },
  {
   "cell_type": "code",
   "execution_count": 7,
   "metadata": {},
   "outputs": [],
   "source": [
    "#set functions to get values and arrays\n",
    "def magnetic_force(v,B):\n",
    "    F = e*np.cross(v,B)\n",
    "    return F\n",
    "\n",
    "def get_magnetic_field(B):\n",
    "    B_vector = np.array([0,0,B])\n",
    "    return B_vector\n",
    "\n",
    "def get_arctan(v):\n",
    "    x = v[1]/v[0]\n",
    "    return np.arctan(x)\n",
    "\n",
    "def get_updated_value(current_value,rate_of_change,dt):\n",
    "    new_value = current_value + rate_of_change*dt\n",
    "    return new_value\n",
    "\n",
    "def get_acceleration(F):\n",
    "    a = F/m\n",
    "    return a \n",
    "\n",
    "def create_placeholder_array(timesteps):\n",
    "    shape = np.shape(timesteps)\n",
    "    shape = shape[0]\n",
    "    evolution =  np.zeros([shape,3])\n",
    "    return evolution"
   ]
  },
  {
   "cell_type": "code",
   "execution_count": 8,
   "metadata": {},
   "outputs": [
    {
     "name": "stdout",
     "output_type": "stream",
     "text": [
      "[[0. 0. 0.]\n",
      " [0. 0. 0.]\n",
      " [0. 0. 0.]\n",
      " ...\n",
      " [0. 0. 0.]\n",
      " [0. 0. 0.]\n",
      " [0. 0. 0.]]\n"
     ]
    }
   ],
   "source": [
    "timesteps = np.linspace(0,1,1000)\n",
    "dt = timesteps[1]\n",
    "s_initial = np.array([0,0,0])\n",
    "v_initial = np.array([v_0,0,0])\n",
    "\n",
    "print(create_placeholder_array(timesteps))"
   ]
  },
  {
   "cell_type": "code",
   "execution_count": 9,
   "metadata": {},
   "outputs": [],
   "source": [
    "position_array = create_placeholder_array(timesteps)\n",
    "velocity_array = create_placeholder_array(timesteps)\n",
    "x_max = 0.01\n",
    "v = v_initial\n",
    "s = s_initial\n",
    "\n",
    "def calculate_trajectory_for_field(B):\n",
    "    v = v_initial\n",
    "    s = s_initial \n",
    "    \n",
    "    for inum, timestep in enumerate(timesteps):\n",
    "        \n",
    "        velocity_array[inum] = v\n",
    "        position_array[inum] = s\n",
    "        \n",
    "        if position_array[inum][0] < x_max:\n",
    "            field = np.array([0,0,B])\n",
    "            F = magnetic_force(v,field)\n",
    "            a = get_acceleration(F)\n",
    "            v = get_updated_value(v,a,dt)\n",
    "            s = get_updated_value(s,v,dt)\n",
    "        else:\n",
    "            field = np.array([0,0,0])\n",
    "            F = magnetic_force(v,field)\n",
    "            a = get_acceleration(F)\n",
    "            v = get_updated_value(v,a,dt)\n",
    "            s = get_updated_value(s,v,dt)\n",
    "    \n",
    "    velocity_final = velocity_array[-1]\n",
    "    arctan = get_arctan(velocity_final)\n",
    "    return arctan\n",
    "    \n",
    "    "
   ]
  },
  {
   "cell_type": "code",
   "execution_count": 11,
   "metadata": {},
   "outputs": [
    {
     "name": "stdout",
     "output_type": "stream",
     "text": [
      "0.0\n",
      "-1.0536297446854912\n",
      "-1.5707963211068403\n"
     ]
    }
   ],
   "source": [
    "#testing to see if function works\n",
    "final = calculate_trajectory_for_field(0)\n",
    "final1 = calculate_trajectory_for_field(1e-8)\n",
    "final2 = calculate_trajectory_for_field(1)\n",
    "print(final)\n",
    "print(final1)\n",
    "print(final2)"
   ]
  },
  {
   "cell_type": "code",
   "execution_count": 20,
   "metadata": {},
   "outputs": [],
   "source": [
    "xaxis = np.linspace(-1e-7,1e-7,100)\n",
    "yaxis = np.zeros(np.shape(xaxis))\n",
    "shape = np.arange(0,np.shape(xaxis)[0])\n",
    "\n",
    "#populating yaxis\n",
    "for i in shape:\n",
    "    B = calculate_trajectory_for_field(xaxis[i])\n",
    "    yaxis[i] = B\n",
    "    "
   ]
  },
  {
   "cell_type": "code",
   "execution_count": 25,
   "metadata": {},
   "outputs": [
    {
     "data": {
      "text/plain": [
       "Text(0, 0.5, 'Angle of Deflection [rad]')"
      ]
     },
     "execution_count": 25,
     "metadata": {},
     "output_type": "execute_result"
    },
    {
     "data": {
      "image/png": "[encoded data removed]",
      "text/plain": [
       "<Figure size 432x288 with 1 Axes>"
      ]
     },
     "metadata": {
      "needs_background": "light"
     },
     "output_type": "display_data"
    }
   ],
   "source": [
    "plt.plot(xaxis,yaxis)\n",
    "plt.title(\"Magnetic Field Strength vs. Angle of Deflection\")\n",
    "plt.xlabel(\"Magnetic Field [T]\")\n",
    "plt.ylabel(\"Angle of Deflection [rad]\")"
   ]
  },
  {
   "cell_type": "markdown",
   "metadata": {},
   "source": [
    "# Links \n",
    "\n",
    "https://electronics.howstuffworks.com/tv3.htm\n",
    "https://www.thoughtco.com/television-history-cathode-ray-tube-1991459\n",
    "https://www.britannica.com/technology/cathode-ray-tube\n",
    "https://www.testandmeasurementtips.com/the-difference-between-cathode-ray-tube-and-flat-screen-displays-in-oscilloscopes-faq/\n",
    "https://www.youtube.com/watch?v=dlT-seESkj0\n",
    "https://www.youtube.com/watch?v=l4UgZBs7ZGo\n",
    "https://www.britannica.com/science/luminescence\n",
    "https://science.nasa.gov/ems/09_visiblelight\n",
    "https://www.sciencedirect.com/topics/engineering/magnetic-deflection\n"
   ]
  },
  {
   "cell_type": "code",
   "execution_count": null,
   "metadata": {},
   "outputs": [],
   "source": []
  },
  {
   "cell_type": "code",
   "execution_count": null,
   "metadata": {},
   "outputs": [],
   "source": []
  },
  {
   "cell_type": "code",
   "execution_count": null,
   "metadata": {},
   "outputs": [],
   "source": []
  }
 ],
 "metadata": {
  "kernelspec": {
   "display_name": "Python 3",
   "language": "python",
   "name": "python3"
  },
  "language_info": {
   "codemirror_mode": {
    "name": "ipython",
    "version": 3
   },
   "file_extension": ".py",
   "mimetype": "text/x-python",
   "name": "python",
   "nbconvert_exporter": "python",
   "pygments_lexer": "ipython3",
   "version": "3.7.4"
  }
 },
 "nbformat": 4,
 "nbformat_minor": 2
}
